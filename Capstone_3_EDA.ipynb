{
 "cells": [
  {
   "cell_type": "code",
   "execution_count": 3,
   "id": "7847cc1b",
   "metadata": {},
   "outputs": [],
   "source": [
    "import pandas as pd\n",
    "import numpy as np"
   ]
  },
  {
   "cell_type": "code",
   "execution_count": 4,
   "id": "c6a1599c",
   "metadata": {},
   "outputs": [],
   "source": [
    "# We will be doing expoloratory analysis on the dataframe.\n",
    "df = pd.read_csv(r'C:\\Capstone3\\capstone3_data_clean.csv')"
   ]
  },
  {
   "cell_type": "code",
   "execution_count": 5,
   "id": "45d3864d",
   "metadata": {},
   "outputs": [
    {
     "name": "stdout",
     "output_type": "stream",
     "text": [
      "<class 'pandas.core.frame.DataFrame'>\n",
      "RangeIndex: 795 entries, 0 to 794\n",
      "Data columns (total 92 columns):\n",
      " #   Column                                               Non-Null Count  Dtype  \n",
      "---  ------                                               --------------  -----  \n",
      " 0   Unnamed: 0                                           795 non-null    int64  \n",
      " 1   index                                                795 non-null    int64  \n",
      " 2   Date                                                 795 non-null    object \n",
      " 3   IXIC Open                                            795 non-null    float64\n",
      " 4   IXIC High                                            795 non-null    float64\n",
      " 5   IXIC Low                                             795 non-null    float64\n",
      " 6   IXIC Close                                           795 non-null    float64\n",
      " 7   IXIC Adj Close                                       795 non-null    float64\n",
      " 8   4 WEEKS BANK DISCOUNT                                795 non-null    float64\n",
      " 9   4 WEEKS COUPON EQUIVALENT                            795 non-null    float64\n",
      " 10  8 WEEKS BANK DISCOUNT                                795 non-null    float64\n",
      " 11  8 WEEKS COUPON EQUIVALENT                            795 non-null    float64\n",
      " 12  13 WEEKS BANK DISCOUNT                               795 non-null    float64\n",
      " 13  13 WEEKS COUPON EQUIVALENT                           795 non-null    float64\n",
      " 14  26 WEEKS BANK DISCOUNT                               795 non-null    float64\n",
      " 15  26 WEEKS COUPON EQUIVALENT                           795 non-null    float64\n",
      " 16  52 WEEKS BANK DISCOUNT                               795 non-null    float64\n",
      " 17  52 WEEKS COUPON EQUIVALENT                           795 non-null    float64\n",
      " 18  LT Real Average (10> Yrs)                            795 non-null    float64\n",
      " 19  5 YR                                                 795 non-null    float64\n",
      " 20  7 YR                                                 795 non-null    float64\n",
      " 21  10 YR                                                795 non-null    float64\n",
      " 22  20 YR                                                795 non-null    float64\n",
      " 23  30 YR                                                795 non-null    float64\n",
      " 24  % employed                                           795 non-null    float64\n",
      " 25  GDP                                                  795 non-null    float64\n",
      " 26  1 Mo                                                 795 non-null    float64\n",
      " 27  2 Mo                                                 795 non-null    float64\n",
      " 28  3 Mo                                                 795 non-null    float64\n",
      " 29  6 Mo                                                 795 non-null    float64\n",
      " 30  1 Yr                                                 795 non-null    float64\n",
      " 31  2 Yr                                                 795 non-null    float64\n",
      " 32  3 Yr                                                 795 non-null    float64\n",
      " 33  5 Yr                                                 795 non-null    float64\n",
      " 34  7 Yr                                                 795 non-null    float64\n",
      " 35  10 Yr                                                795 non-null    float64\n",
      " 36  20 Yr                                                795 non-null    float64\n",
      " 37  30 Yr                                                795 non-null    float64\n",
      " 38  Cushing, OK WTI Spot Price FOB (Dollars per Barrel)  795 non-null    float64\n",
      " 39  Europe Brent Spot Price FOB (Dollars per Barrel)     795 non-null    float64\n",
      " 40  GOOGL Open                                           795 non-null    float64\n",
      " 41  GOOGL High                                           795 non-null    float64\n",
      " 42  GOOGL Low                                            795 non-null    float64\n",
      " 43  GOOGL Close                                          795 non-null    float64\n",
      " 44  GOOGL Adj Close                                      795 non-null    float64\n",
      " 45  GOOGL Volume                                         795 non-null    int64  \n",
      " 46  AAPL Open                                            795 non-null    float64\n",
      " 47  AAPL High                                            795 non-null    float64\n",
      " 48  AAPL Low                                             795 non-null    float64\n",
      " 49  AAPL Close                                           795 non-null    float64\n",
      " 50  AAPL Adj Close                                       795 non-null    float64\n",
      " 51  AAPL Volume                                          795 non-null    int64  \n",
      " 52  QQQ Open                                             795 non-null    float64\n",
      " 53  QQQ High                                             795 non-null    float64\n",
      " 54  QQQ Low                                              795 non-null    float64\n",
      " 55  QQQ Close                                            795 non-null    float64\n",
      " 56  QQQ Adj Close                                        795 non-null    float64\n",
      " 57  QQQ Volume                                           795 non-null    int64  \n",
      " 58  DIA Open                                             795 non-null    float64\n",
      " 59  DIA High                                             795 non-null    float64\n",
      " 60  DIA Low                                              795 non-null    float64\n",
      " 61  DIA Close                                            795 non-null    float64\n",
      " 62  DIA Adj Close                                        795 non-null    float64\n",
      " 63  DIA Volume                                           795 non-null    int64  \n",
      " 64  ONEQ Open                                            795 non-null    float64\n",
      " 65  ONEQ High                                            795 non-null    float64\n",
      " 66  ONEQ Low                                             795 non-null    float64\n",
      " 67  ONEQ Close                                           795 non-null    float64\n",
      " 68  ONEQ Adj Close                                       795 non-null    float64\n",
      " 69  ONEQ Volume                                          795 non-null    int64  \n",
      " 70  VOO Open                                             795 non-null    float64\n",
      " 71  VOO High                                             795 non-null    float64\n",
      " 72  VOO Low                                              795 non-null    float64\n",
      " 73  VOO Close                                            795 non-null    float64\n",
      " 74  VOO Adj Close                                        795 non-null    float64\n",
      " 75  VOO Volume                                           795 non-null    int64  \n",
      " 76  AMZN Open                                            795 non-null    float64\n",
      " 77  AMZN High                                            795 non-null    float64\n",
      " 78  AMZN Low                                             795 non-null    float64\n",
      " 79  AMZN Close                                           795 non-null    float64\n",
      " 80  AMZN Adj Close                                       795 non-null    float64\n",
      " 81  AMZN Volume                                          795 non-null    int64  \n",
      " 82  SMA                                                  795 non-null    float64\n",
      " 83  BB Upper Band                                        795 non-null    float64\n",
      " 84  BB Lower Band                                        795 non-null    float64\n",
      " 85  Bollinger_Status                                     795 non-null    object \n",
      " 86  MACD                                                 795 non-null    float64\n",
      " 87  MACD_Trigger                                         795 non-null    float64\n",
      " 88  MACD_Con/Div                                         795 non-null    float64\n",
      " 89  MACD_Market                                          795 non-null    object \n",
      " 90  RSI                                                  795 non-null    float64\n",
      " 91  RSI_Status                                           795 non-null    object \n",
      "dtypes: float64(79), int64(9), object(4)\n",
      "memory usage: 571.5+ KB\n"
     ]
    }
   ],
   "source": [
    "#Basic info on each column of the data frame\n",
    "df.info()"
   ]
  },
  {
   "cell_type": "code",
   "execution_count": 6,
   "id": "f7e8aa44",
   "metadata": {},
   "outputs": [
    {
     "data": {
      "text/html": [
       "<div>\n",
       "<style scoped>\n",
       "    .dataframe tbody tr th:only-of-type {\n",
       "        vertical-align: middle;\n",
       "    }\n",
       "\n",
       "    .dataframe tbody tr th {\n",
       "        vertical-align: top;\n",
       "    }\n",
       "\n",
       "    .dataframe thead th {\n",
       "        text-align: right;\n",
       "    }\n",
       "</style>\n",
       "<table border=\"1\" class=\"dataframe\">\n",
       "  <thead>\n",
       "    <tr style=\"text-align: right;\">\n",
       "      <th></th>\n",
       "      <th>Unnamed: 0</th>\n",
       "      <th>index</th>\n",
       "      <th>IXIC Open</th>\n",
       "      <th>IXIC High</th>\n",
       "      <th>IXIC Low</th>\n",
       "      <th>IXIC Close</th>\n",
       "      <th>IXIC Adj Close</th>\n",
       "      <th>4 WEEKS BANK DISCOUNT</th>\n",
       "      <th>4 WEEKS COUPON EQUIVALENT</th>\n",
       "      <th>8 WEEKS BANK DISCOUNT</th>\n",
       "      <th>...</th>\n",
       "      <th>AMZN Close</th>\n",
       "      <th>AMZN Adj Close</th>\n",
       "      <th>AMZN Volume</th>\n",
       "      <th>SMA</th>\n",
       "      <th>BB Upper Band</th>\n",
       "      <th>BB Lower Band</th>\n",
       "      <th>MACD</th>\n",
       "      <th>MACD_Trigger</th>\n",
       "      <th>MACD_Con/Div</th>\n",
       "      <th>RSI</th>\n",
       "    </tr>\n",
       "  </thead>\n",
       "  <tbody>\n",
       "    <tr>\n",
       "      <th>count</th>\n",
       "      <td>795.000000</td>\n",
       "      <td>795.000000</td>\n",
       "      <td>795.000000</td>\n",
       "      <td>795.000000</td>\n",
       "      <td>795.000000</td>\n",
       "      <td>795.000000</td>\n",
       "      <td>795.000000</td>\n",
       "      <td>795.000000</td>\n",
       "      <td>795.000000</td>\n",
       "      <td>795.000000</td>\n",
       "      <td>...</td>\n",
       "      <td>795.000000</td>\n",
       "      <td>795.000000</td>\n",
       "      <td>7.950000e+02</td>\n",
       "      <td>795.000000</td>\n",
       "      <td>795.000000</td>\n",
       "      <td>795.000000</td>\n",
       "      <td>795.000000</td>\n",
       "      <td>795.000000</td>\n",
       "      <td>795.000000</td>\n",
       "      <td>795.000000</td>\n",
       "    </tr>\n",
       "    <tr>\n",
       "      <th>mean</th>\n",
       "      <td>397.000000</td>\n",
       "      <td>459.000000</td>\n",
       "      <td>12474.432187</td>\n",
       "      <td>12575.794890</td>\n",
       "      <td>12361.635130</td>\n",
       "      <td>12475.443309</td>\n",
       "      <td>12475.443309</td>\n",
       "      <td>1.119258</td>\n",
       "      <td>1.138314</td>\n",
       "      <td>1.214981</td>\n",
       "      <td>...</td>\n",
       "      <td>140.716386</td>\n",
       "      <td>140.716386</td>\n",
       "      <td>7.680514e+07</td>\n",
       "      <td>140.476537</td>\n",
       "      <td>151.079260</td>\n",
       "      <td>129.873813</td>\n",
       "      <td>0.110968</td>\n",
       "      <td>0.089131</td>\n",
       "      <td>0.021837</td>\n",
       "      <td>51.618135</td>\n",
       "    </tr>\n",
       "    <tr>\n",
       "      <th>std</th>\n",
       "      <td>229.641024</td>\n",
       "      <td>229.641024</td>\n",
       "      <td>1811.598416</td>\n",
       "      <td>1806.143069</td>\n",
       "      <td>1807.451056</td>\n",
       "      <td>1806.880780</td>\n",
       "      <td>1806.880780</td>\n",
       "      <td>1.670217</td>\n",
       "      <td>1.701427</td>\n",
       "      <td>1.741962</td>\n",
       "      <td>...</td>\n",
       "      <td>28.248530</td>\n",
       "      <td>28.248530</td>\n",
       "      <td>3.119459e+07</td>\n",
       "      <td>27.968101</td>\n",
       "      <td>28.343172</td>\n",
       "      <td>28.568432</td>\n",
       "      <td>3.382499</td>\n",
       "      <td>3.150571</td>\n",
       "      <td>1.084527</td>\n",
       "      <td>16.512138</td>\n",
       "    </tr>\n",
       "    <tr>\n",
       "      <th>min</th>\n",
       "      <td>0.000000</td>\n",
       "      <td>62.000000</td>\n",
       "      <td>7317.450195</td>\n",
       "      <td>7501.700195</td>\n",
       "      <td>7288.109863</td>\n",
       "      <td>7360.580078</td>\n",
       "      <td>7360.580078</td>\n",
       "      <td>0.000000</td>\n",
       "      <td>0.000000</td>\n",
       "      <td>0.000000</td>\n",
       "      <td>...</td>\n",
       "      <td>81.820000</td>\n",
       "      <td>81.820000</td>\n",
       "      <td>2.903800e+07</td>\n",
       "      <td>86.325000</td>\n",
       "      <td>92.186336</td>\n",
       "      <td>77.483331</td>\n",
       "      <td>-12.431501</td>\n",
       "      <td>-10.695326</td>\n",
       "      <td>-3.317492</td>\n",
       "      <td>13.524372</td>\n",
       "    </tr>\n",
       "    <tr>\n",
       "      <th>25%</th>\n",
       "      <td>198.500000</td>\n",
       "      <td>260.500000</td>\n",
       "      <td>11152.975095</td>\n",
       "      <td>11259.854980</td>\n",
       "      <td>11045.160155</td>\n",
       "      <td>11175.410160</td>\n",
       "      <td>11175.410160</td>\n",
       "      <td>0.050000</td>\n",
       "      <td>0.050000</td>\n",
       "      <td>0.060000</td>\n",
       "      <td>...</td>\n",
       "      <td>115.040001</td>\n",
       "      <td>115.040001</td>\n",
       "      <td>5.609070e+07</td>\n",
       "      <td>113.990462</td>\n",
       "      <td>125.288529</td>\n",
       "      <td>99.944716</td>\n",
       "      <td>-1.765574</td>\n",
       "      <td>-1.720222</td>\n",
       "      <td>-0.599085</td>\n",
       "      <td>38.424919</td>\n",
       "    </tr>\n",
       "    <tr>\n",
       "      <th>50%</th>\n",
       "      <td>397.000000</td>\n",
       "      <td>459.000000</td>\n",
       "      <td>12224.250000</td>\n",
       "      <td>12269.549810</td>\n",
       "      <td>12154.570310</td>\n",
       "      <td>12226.580080</td>\n",
       "      <td>12226.580080</td>\n",
       "      <td>0.090000</td>\n",
       "      <td>0.090000</td>\n",
       "      <td>0.110000</td>\n",
       "      <td>...</td>\n",
       "      <td>152.764496</td>\n",
       "      <td>152.764496</td>\n",
       "      <td>6.793080e+07</td>\n",
       "      <td>153.573299</td>\n",
       "      <td>164.404497</td>\n",
       "      <td>140.621585</td>\n",
       "      <td>0.140976</td>\n",
       "      <td>0.161497</td>\n",
       "      <td>0.067267</td>\n",
       "      <td>52.255546</td>\n",
       "    </tr>\n",
       "    <tr>\n",
       "      <th>75%</th>\n",
       "      <td>595.500000</td>\n",
       "      <td>657.500000</td>\n",
       "      <td>13931.540040</td>\n",
       "      <td>14013.689945</td>\n",
       "      <td>13796.580080</td>\n",
       "      <td>13896.209965</td>\n",
       "      <td>13896.209965</td>\n",
       "      <td>2.160000</td>\n",
       "      <td>2.190000</td>\n",
       "      <td>2.405000</td>\n",
       "      <td>...</td>\n",
       "      <td>164.243996</td>\n",
       "      <td>164.243996</td>\n",
       "      <td>8.818500e+07</td>\n",
       "      <td>163.376849</td>\n",
       "      <td>173.977667</td>\n",
       "      <td>154.438329</td>\n",
       "      <td>2.460593</td>\n",
       "      <td>2.360808</td>\n",
       "      <td>0.650321</td>\n",
       "      <td>64.164488</td>\n",
       "    </tr>\n",
       "    <tr>\n",
       "      <th>max</th>\n",
       "      <td>794.000000</td>\n",
       "      <td>856.000000</td>\n",
       "      <td>16120.919920</td>\n",
       "      <td>16212.230470</td>\n",
       "      <td>16017.230470</td>\n",
       "      <td>16057.440430</td>\n",
       "      <td>16057.440430</td>\n",
       "      <td>5.780000</td>\n",
       "      <td>5.900000</td>\n",
       "      <td>5.300000</td>\n",
       "      <td>...</td>\n",
       "      <td>186.570496</td>\n",
       "      <td>186.570496</td>\n",
       "      <td>2.726620e+08</td>\n",
       "      <td>181.521350</td>\n",
       "      <td>192.466075</td>\n",
       "      <td>173.844501</td>\n",
       "      <td>8.134275</td>\n",
       "      <td>6.962426</td>\n",
       "      <td>3.392966</td>\n",
       "      <td>90.925834</td>\n",
       "    </tr>\n",
       "  </tbody>\n",
       "</table>\n",
       "<p>8 rows × 88 columns</p>\n",
       "</div>"
      ],
      "text/plain": [
       "       Unnamed: 0       index     IXIC Open     IXIC High      IXIC Low  \\\n",
       "count  795.000000  795.000000    795.000000    795.000000    795.000000   \n",
       "mean   397.000000  459.000000  12474.432187  12575.794890  12361.635130   \n",
       "std    229.641024  229.641024   1811.598416   1806.143069   1807.451056   \n",
       "min      0.000000   62.000000   7317.450195   7501.700195   7288.109863   \n",
       "25%    198.500000  260.500000  11152.975095  11259.854980  11045.160155   \n",
       "50%    397.000000  459.000000  12224.250000  12269.549810  12154.570310   \n",
       "75%    595.500000  657.500000  13931.540040  14013.689945  13796.580080   \n",
       "max    794.000000  856.000000  16120.919920  16212.230470  16017.230470   \n",
       "\n",
       "         IXIC Close  IXIC Adj Close  4 WEEKS BANK DISCOUNT  \\\n",
       "count    795.000000      795.000000             795.000000   \n",
       "mean   12475.443309    12475.443309               1.119258   \n",
       "std     1806.880780     1806.880780               1.670217   \n",
       "min     7360.580078     7360.580078               0.000000   \n",
       "25%    11175.410160    11175.410160               0.050000   \n",
       "50%    12226.580080    12226.580080               0.090000   \n",
       "75%    13896.209965    13896.209965               2.160000   \n",
       "max    16057.440430    16057.440430               5.780000   \n",
       "\n",
       "       4 WEEKS COUPON EQUIVALENT  8 WEEKS BANK DISCOUNT  ...  AMZN Close  \\\n",
       "count                 795.000000             795.000000  ...  795.000000   \n",
       "mean                    1.138314               1.214981  ...  140.716386   \n",
       "std                     1.701427               1.741962  ...   28.248530   \n",
       "min                     0.000000               0.000000  ...   81.820000   \n",
       "25%                     0.050000               0.060000  ...  115.040001   \n",
       "50%                     0.090000               0.110000  ...  152.764496   \n",
       "75%                     2.190000               2.405000  ...  164.243996   \n",
       "max                     5.900000               5.300000  ...  186.570496   \n",
       "\n",
       "       AMZN Adj Close   AMZN Volume         SMA  BB Upper Band  BB Lower Band  \\\n",
       "count      795.000000  7.950000e+02  795.000000     795.000000     795.000000   \n",
       "mean       140.716386  7.680514e+07  140.476537     151.079260     129.873813   \n",
       "std         28.248530  3.119459e+07   27.968101      28.343172      28.568432   \n",
       "min         81.820000  2.903800e+07   86.325000      92.186336      77.483331   \n",
       "25%        115.040001  5.609070e+07  113.990462     125.288529      99.944716   \n",
       "50%        152.764496  6.793080e+07  153.573299     164.404497     140.621585   \n",
       "75%        164.243996  8.818500e+07  163.376849     173.977667     154.438329   \n",
       "max        186.570496  2.726620e+08  181.521350     192.466075     173.844501   \n",
       "\n",
       "             MACD  MACD_Trigger  MACD_Con/Div         RSI  \n",
       "count  795.000000    795.000000    795.000000  795.000000  \n",
       "mean     0.110968      0.089131      0.021837   51.618135  \n",
       "std      3.382499      3.150571      1.084527   16.512138  \n",
       "min    -12.431501    -10.695326     -3.317492   13.524372  \n",
       "25%     -1.765574     -1.720222     -0.599085   38.424919  \n",
       "50%      0.140976      0.161497      0.067267   52.255546  \n",
       "75%      2.460593      2.360808      0.650321   64.164488  \n",
       "max      8.134275      6.962426      3.392966   90.925834  \n",
       "\n",
       "[8 rows x 88 columns]"
      ]
     },
     "execution_count": 6,
     "metadata": {},
     "output_type": "execute_result"
    }
   ],
   "source": [
    "# Basic Statisctics for each column of the dataframe.\n",
    "df.describe()"
   ]
  },
  {
   "cell_type": "code",
   "execution_count": 26,
   "id": "bb46bed4",
   "metadata": {},
   "outputs": [
    {
     "data": {
      "text/html": [
       "<div class='tableauPlaceholder' id='viz1688604671280' style='position: relative'><noscript><a href='#'><img alt=' ' src='https:&#47;&#47;public.tableau.com&#47;static&#47;images&#47;Am&#47;AmazonDataAnalysis_16886046305030&#47;Sheet1&#47;1_rss.png' style='border: none' /></a></noscript><object class='tableauViz'  style='display:none;'><param name='host_url' value='https%3A%2F%2Fpublic.tableau.com%2F' /> <param name='embed_code_version' value='3' /> <param name='site_root' value='' /><param name='name' value='AmazonDataAnalysis_16886046305030&#47;Sheet1' /><param name='tabs' value='yes' /><param name='toolbar' value='yes' /><param name='static_image' value='https:&#47;&#47;public.tableau.com&#47;static&#47;images&#47;Am&#47;AmazonDataAnalysis_16886046305030&#47;Sheet1&#47;1.png' /> <param name='animate_transition' value='yes' /><param name='display_static_image' value='yes' /><param name='display_spinner' value='yes' /><param name='display_overlay' value='yes' /><param name='display_count' value='yes' /><param name='language' value='en-US' /></object></div>                <script type='text/javascript'>                    var divElement = document.getElementById('viz1688604671280');                    var vizElement = divElement.getElementsByTagName('object')[0];                    vizElement.style.width='100%';vizElement.style.height=(divElement.offsetWidth*0.75)+'px';                    var scriptElement = document.createElement('script');                    scriptElement.src = 'https://public.tableau.com/javascripts/api/viz_v1.js';                    vizElement.parentNode.insertBefore(scriptElement, vizElement);                </script>\n"
      ],
      "text/plain": [
       "<IPython.core.display.HTML object>"
      ]
     },
     "metadata": {},
     "output_type": "display_data"
    }
   ],
   "source": [
    "\n",
    "%%HTML\n",
    "<div class='tableauPlaceholder' id='viz1688604671280' style='position: relative'><noscript><a href='#'><img alt=' ' src='https:&#47;&#47;public.tableau.com&#47;static&#47;images&#47;Am&#47;AmazonDataAnalysis_16886046305030&#47;Sheet1&#47;1_rss.png' style='border: none' /></a></noscript><object class='tableauViz'  style='display:none;'><param name='host_url' value='https%3A%2F%2Fpublic.tableau.com%2F' /> <param name='embed_code_version' value='3' /> <param name='site_root' value='' /><param name='name' value='AmazonDataAnalysis_16886046305030&#47;Sheet1' /><param name='tabs' value='yes' /><param name='toolbar' value='yes' /><param name='static_image' value='https:&#47;&#47;public.tableau.com&#47;static&#47;images&#47;Am&#47;AmazonDataAnalysis_16886046305030&#47;Sheet1&#47;1.png' /> <param name='animate_transition' value='yes' /><param name='display_static_image' value='yes' /><param name='display_spinner' value='yes' /><param name='display_overlay' value='yes' /><param name='display_count' value='yes' /><param name='language' value='en-US' /></object></div>                <script type='text/javascript'>                    var divElement = document.getElementById('viz1688604671280');                    var vizElement = divElement.getElementsByTagName('object')[0];                    vizElement.style.width='100%';vizElement.style.height=(divElement.offsetWidth*0.75)+'px';                    var scriptElement = document.createElement('script');                    scriptElement.src = 'https://public.tableau.com/javascripts/api/viz_v1.js';                    vizElement.parentNode.insertBefore(scriptElement, vizElement);                </script>"
   ]
  },
  {
   "cell_type": "code",
   "execution_count": null,
   "id": "0845a8c7",
   "metadata": {},
   "outputs": [],
   "source": [
    "#Below is a chart that compares Amazon stock price with other stocks that are often compared to it. "
   ]
  },
  {
   "cell_type": "code",
   "execution_count": 34,
   "id": "f9d51a0f",
   "metadata": {},
   "outputs": [
    {
     "data": {
      "text/html": [
       "<div class='tableauPlaceholder' id='viz1688605024766' style='position: relative'><noscript><a href='#'><img alt=' ' src='https:&#47;&#47;public.tableau.com&#47;static&#47;images&#47;Am&#47;AmazonDataAnalysis_16886046305030&#47;Sheet2&#47;1_rss.png' style='border: none' /></a></noscript><object class='tableauViz'  style='display:none;'><param name='host_url' value='https%3A%2F%2Fpublic.tableau.com%2F' /> <param name='embed_code_version' value='3' /> <param name='site_root' value='' /><param name='name' value='AmazonDataAnalysis_16886046305030&#47;Sheet2' /><param name='tabs' value='yes' /><param name='toolbar' value='yes' /><param name='static_image' value='https:&#47;&#47;public.tableau.com&#47;static&#47;images&#47;Am&#47;AmazonDataAnalysis_16886046305030&#47;Sheet2&#47;1.png' /> <param name='animate_transition' value='yes' /><param name='display_static_image' value='yes' /><param name='display_spinner' value='yes' /><param name='display_overlay' value='yes' /><param name='display_count' value='yes' /><param name='language' value='en-US' /></object></div>                <script type='text/javascript'>                    var divElement = document.getElementById('viz1688605024766');                    var vizElement = divElement.getElementsByTagName('object')[0];                    vizElement.style.width='100%';vizElement.style.height=(divElement.offsetWidth*0.75)+'px';                    var scriptElement = document.createElement('script');                    scriptElement.src = 'https://public.tableau.com/javascripts/api/viz_v1.js';                    vizElement.parentNode.insertBefore(scriptElement, vizElement);                </script>\n"
      ],
      "text/plain": [
       "<IPython.core.display.HTML object>"
      ]
     },
     "metadata": {},
     "output_type": "display_data"
    }
   ],
   "source": [
    "\n",
    "%%HTML\n",
    "<div class='tableauPlaceholder' id='viz1688605024766' style='position: relative'><noscript><a href='#'><img alt=' ' src='https:&#47;&#47;public.tableau.com&#47;static&#47;images&#47;Am&#47;AmazonDataAnalysis_16886046305030&#47;Sheet2&#47;1_rss.png' style='border: none' /></a></noscript><object class='tableauViz'  style='display:none;'><param name='host_url' value='https%3A%2F%2Fpublic.tableau.com%2F' /> <param name='embed_code_version' value='3' /> <param name='site_root' value='' /><param name='name' value='AmazonDataAnalysis_16886046305030&#47;Sheet2' /><param name='tabs' value='yes' /><param name='toolbar' value='yes' /><param name='static_image' value='https:&#47;&#47;public.tableau.com&#47;static&#47;images&#47;Am&#47;AmazonDataAnalysis_16886046305030&#47;Sheet2&#47;1.png' /> <param name='animate_transition' value='yes' /><param name='display_static_image' value='yes' /><param name='display_spinner' value='yes' /><param name='display_overlay' value='yes' /><param name='display_count' value='yes' /><param name='language' value='en-US' /></object></div>                <script type='text/javascript'>                    var divElement = document.getElementById('viz1688605024766');                    var vizElement = divElement.getElementsByTagName('object')[0];                    vizElement.style.width='100%';vizElement.style.height=(divElement.offsetWidth*0.75)+'px';                    var scriptElement = document.createElement('script');                    scriptElement.src = 'https://public.tableau.com/javascripts/api/viz_v1.js';                    vizElement.parentNode.insertBefore(scriptElement, vizElement);                </script>"
   ]
  },
  {
   "cell_type": "code",
   "execution_count": 9,
   "id": "0c04a1e3",
   "metadata": {},
   "outputs": [
    {
     "data": {
      "text/plain": [
       "array(['In Range'], dtype=object)"
      ]
     },
     "execution_count": 9,
     "metadata": {},
     "output_type": "execute_result"
    }
   ],
   "source": [
    "# 3 Columns are Objects, find some information on those.\n",
    "df.Bollinger_Status.nunique()\n",
    "df.Bollinger_Status.unique()\n",
    "\n",
    "#Seems strange that the stock is IN Range for the entire time. Need to study this more."
   ]
  },
  {
   "cell_type": "code",
   "execution_count": 35,
   "id": "1538bb03",
   "metadata": {},
   "outputs": [
    {
     "data": {
      "text/html": [
       "<div class='tableauPlaceholder' id='viz1688605236856' style='position: relative'><noscript><a href='#'><img alt=' ' src='https:&#47;&#47;public.tableau.com&#47;static&#47;images&#47;Am&#47;AmazonDataAnalysis_16886046305030&#47;Sheet4&#47;1_rss.png' style='border: none' /></a></noscript><object class='tableauViz'  style='display:none;'><param name='host_url' value='https%3A%2F%2Fpublic.tableau.com%2F' /> <param name='embed_code_version' value='3' /> <param name='site_root' value='' /><param name='name' value='AmazonDataAnalysis_16886046305030&#47;Sheet4' /><param name='tabs' value='yes' /><param name='toolbar' value='yes' /><param name='static_image' value='https:&#47;&#47;public.tableau.com&#47;static&#47;images&#47;Am&#47;AmazonDataAnalysis_16886046305030&#47;Sheet4&#47;1.png' /> <param name='animate_transition' value='yes' /><param name='display_static_image' value='yes' /><param name='display_spinner' value='yes' /><param name='display_overlay' value='yes' /><param name='display_count' value='yes' /><param name='language' value='en-US' /></object></div>                <script type='text/javascript'>                    var divElement = document.getElementById('viz1688605236856');                    var vizElement = divElement.getElementsByTagName('object')[0];                    vizElement.style.width='100%';vizElement.style.height=(divElement.offsetWidth*0.75)+'px';                    var scriptElement = document.createElement('script');                    scriptElement.src = 'https://public.tableau.com/javascripts/api/viz_v1.js';                    vizElement.parentNode.insertBefore(scriptElement, vizElement);                </script>\n"
      ],
      "text/plain": [
       "<IPython.core.display.HTML object>"
      ]
     },
     "metadata": {},
     "output_type": "display_data"
    }
   ],
   "source": [
    "%%HTML\n",
    "<div class='tableauPlaceholder' id='viz1688605236856' style='position: relative'><noscript><a href='#'><img alt=' ' src='https:&#47;&#47;public.tableau.com&#47;static&#47;images&#47;Am&#47;AmazonDataAnalysis_16886046305030&#47;Sheet4&#47;1_rss.png' style='border: none' /></a></noscript><object class='tableauViz'  style='display:none;'><param name='host_url' value='https%3A%2F%2Fpublic.tableau.com%2F' /> <param name='embed_code_version' value='3' /> <param name='site_root' value='' /><param name='name' value='AmazonDataAnalysis_16886046305030&#47;Sheet4' /><param name='tabs' value='yes' /><param name='toolbar' value='yes' /><param name='static_image' value='https:&#47;&#47;public.tableau.com&#47;static&#47;images&#47;Am&#47;AmazonDataAnalysis_16886046305030&#47;Sheet4&#47;1.png' /> <param name='animate_transition' value='yes' /><param name='display_static_image' value='yes' /><param name='display_spinner' value='yes' /><param name='display_overlay' value='yes' /><param name='display_count' value='yes' /><param name='language' value='en-US' /></object></div>                <script type='text/javascript'>                    var divElement = document.getElementById('viz1688605236856');                    var vizElement = divElement.getElementsByTagName('object')[0];                    vizElement.style.width='100%';vizElement.style.height=(divElement.offsetWidth*0.75)+'px';                    var scriptElement = document.createElement('script');                    scriptElement.src = 'https://public.tableau.com/javascripts/api/viz_v1.js';                    vizElement.parentNode.insertBefore(scriptElement, vizElement);                </script>"
   ]
  },
  {
   "cell_type": "code",
   "execution_count": 18,
   "id": "5c8fea79",
   "metadata": {},
   "outputs": [
    {
     "data": {
      "text/plain": [
       "array(['Bullish', 'Bearish'], dtype=object)"
      ]
     },
     "execution_count": 18,
     "metadata": {},
     "output_type": "execute_result"
    }
   ],
   "source": [
    "df.MACD_Market.unique()"
   ]
  },
  {
   "cell_type": "code",
   "execution_count": 19,
   "id": "9140e949",
   "metadata": {},
   "outputs": [
    {
     "data": {
      "text/plain": [
       "Bullish    411\n",
       "Bearish    384\n",
       "Name: MACD_Market, dtype: int64"
      ]
     },
     "execution_count": 19,
     "metadata": {},
     "output_type": "execute_result"
    }
   ],
   "source": [
    "df.MACD_Market.value_counts()"
   ]
  },
  {
   "cell_type": "code",
   "execution_count": 37,
   "id": "875b44ba",
   "metadata": {},
   "outputs": [
    {
     "data": {
      "text/html": [
       "<div class='tableauPlaceholder' id='viz1688605300733' style='position: relative'><noscript><a href='#'><img alt=' ' src='https:&#47;&#47;public.tableau.com&#47;static&#47;images&#47;Am&#47;AmazonDataAnalysis_16886046305030&#47;Sheet7&#47;1_rss.png' style='border: none' /></a></noscript><object class='tableauViz'  style='display:none;'><param name='host_url' value='https%3A%2F%2Fpublic.tableau.com%2F' /> <param name='embed_code_version' value='3' /> <param name='site_root' value='' /><param name='name' value='AmazonDataAnalysis_16886046305030&#47;Sheet7' /><param name='tabs' value='yes' /><param name='toolbar' value='yes' /><param name='static_image' value='https:&#47;&#47;public.tableau.com&#47;static&#47;images&#47;Am&#47;AmazonDataAnalysis_16886046305030&#47;Sheet7&#47;1.png' /> <param name='animate_transition' value='yes' /><param name='display_static_image' value='yes' /><param name='display_spinner' value='yes' /><param name='display_overlay' value='yes' /><param name='display_count' value='yes' /><param name='language' value='en-US' /></object></div>                <script type='text/javascript'>                    var divElement = document.getElementById('viz1688605300733');                    var vizElement = divElement.getElementsByTagName('object')[0];                    vizElement.style.width='100%';vizElement.style.height=(divElement.offsetWidth*0.75)+'px';                    var scriptElement = document.createElement('script');                    scriptElement.src = 'https://public.tableau.com/javascripts/api/viz_v1.js';                    vizElement.parentNode.insertBefore(scriptElement, vizElement);                </script>\n"
      ],
      "text/plain": [
       "<IPython.core.display.HTML object>"
      ]
     },
     "metadata": {},
     "output_type": "display_data"
    }
   ],
   "source": [
    "%%HTML\n",
    "<div class='tableauPlaceholder' id='viz1688605300733' style='position: relative'><noscript><a href='#'><img alt=' ' src='https:&#47;&#47;public.tableau.com&#47;static&#47;images&#47;Am&#47;AmazonDataAnalysis_16886046305030&#47;Sheet7&#47;1_rss.png' style='border: none' /></a></noscript><object class='tableauViz'  style='display:none;'><param name='host_url' value='https%3A%2F%2Fpublic.tableau.com%2F' /> <param name='embed_code_version' value='3' /> <param name='site_root' value='' /><param name='name' value='AmazonDataAnalysis_16886046305030&#47;Sheet7' /><param name='tabs' value='yes' /><param name='toolbar' value='yes' /><param name='static_image' value='https:&#47;&#47;public.tableau.com&#47;static&#47;images&#47;Am&#47;AmazonDataAnalysis_16886046305030&#47;Sheet7&#47;1.png' /> <param name='animate_transition' value='yes' /><param name='display_static_image' value='yes' /><param name='display_spinner' value='yes' /><param name='display_overlay' value='yes' /><param name='display_count' value='yes' /><param name='language' value='en-US' /></object></div>                <script type='text/javascript'>                    var divElement = document.getElementById('viz1688605300733');                    var vizElement = divElement.getElementsByTagName('object')[0];                    vizElement.style.width='100%';vizElement.style.height=(divElement.offsetWidth*0.75)+'px';                    var scriptElement = document.createElement('script');                    scriptElement.src = 'https://public.tableau.com/javascripts/api/viz_v1.js';                    vizElement.parentNode.insertBefore(scriptElement, vizElement);                </script>"
   ]
  },
  {
   "cell_type": "code",
   "execution_count": 21,
   "id": "aa4792ab",
   "metadata": {},
   "outputs": [
    {
     "data": {
      "text/plain": [
       "array(['Normal', 'Bullish', 'Bearish'], dtype=object)"
      ]
     },
     "execution_count": 21,
     "metadata": {},
     "output_type": "execute_result"
    }
   ],
   "source": [
    "df.RSI_Status.unique()"
   ]
  },
  {
   "cell_type": "code",
   "execution_count": 38,
   "id": "6ba8fade",
   "metadata": {},
   "outputs": [],
   "source": [
    "#This Chart is the Relative Strength Index for Amazon Stock."
   ]
  },
  {
   "cell_type": "code",
   "execution_count": 39,
   "id": "f845e8f3",
   "metadata": {},
   "outputs": [
    {
     "data": {
      "text/html": [
       "<div class='tableauPlaceholder' id='viz1688605380305' style='position: relative'><noscript><a href='#'><img alt=' ' src='https:&#47;&#47;public.tableau.com&#47;static&#47;images&#47;Am&#47;AmazonDataAnalysis_16886046305030&#47;Sheet3&#47;1_rss.png' style='border: none' /></a></noscript><object class='tableauViz'  style='display:none;'><param name='host_url' value='https%3A%2F%2Fpublic.tableau.com%2F' /> <param name='embed_code_version' value='3' /> <param name='site_root' value='' /><param name='name' value='AmazonDataAnalysis_16886046305030&#47;Sheet3' /><param name='tabs' value='yes' /><param name='toolbar' value='yes' /><param name='static_image' value='https:&#47;&#47;public.tableau.com&#47;static&#47;images&#47;Am&#47;AmazonDataAnalysis_16886046305030&#47;Sheet3&#47;1.png' /> <param name='animate_transition' value='yes' /><param name='display_static_image' value='yes' /><param name='display_spinner' value='yes' /><param name='display_overlay' value='yes' /><param name='display_count' value='yes' /><param name='language' value='en-US' /></object></div>                <script type='text/javascript'>                    var divElement = document.getElementById('viz1688605380305');                    var vizElement = divElement.getElementsByTagName('object')[0];                    vizElement.style.width='100%';vizElement.style.height=(divElement.offsetWidth*0.75)+'px';                    var scriptElement = document.createElement('script');                    scriptElement.src = 'https://public.tableau.com/javascripts/api/viz_v1.js';                    vizElement.parentNode.insertBefore(scriptElement, vizElement);                </script>\n"
      ],
      "text/plain": [
       "<IPython.core.display.HTML object>"
      ]
     },
     "metadata": {},
     "output_type": "display_data"
    }
   ],
   "source": [
    "%%HTML\n",
    "<div class='tableauPlaceholder' id='viz1688605380305' style='position: relative'><noscript><a href='#'><img alt=' ' src='https:&#47;&#47;public.tableau.com&#47;static&#47;images&#47;Am&#47;AmazonDataAnalysis_16886046305030&#47;Sheet3&#47;1_rss.png' style='border: none' /></a></noscript><object class='tableauViz'  style='display:none;'><param name='host_url' value='https%3A%2F%2Fpublic.tableau.com%2F' /> <param name='embed_code_version' value='3' /> <param name='site_root' value='' /><param name='name' value='AmazonDataAnalysis_16886046305030&#47;Sheet3' /><param name='tabs' value='yes' /><param name='toolbar' value='yes' /><param name='static_image' value='https:&#47;&#47;public.tableau.com&#47;static&#47;images&#47;Am&#47;AmazonDataAnalysis_16886046305030&#47;Sheet3&#47;1.png' /> <param name='animate_transition' value='yes' /><param name='display_static_image' value='yes' /><param name='display_spinner' value='yes' /><param name='display_overlay' value='yes' /><param name='display_count' value='yes' /><param name='language' value='en-US' /></object></div>                <script type='text/javascript'>                    var divElement = document.getElementById('viz1688605380305');                    var vizElement = divElement.getElementsByTagName('object')[0];                    vizElement.style.width='100%';vizElement.style.height=(divElement.offsetWidth*0.75)+'px';                    var scriptElement = document.createElement('script');                    scriptElement.src = 'https://public.tableau.com/javascripts/api/viz_v1.js';                    vizElement.parentNode.insertBefore(scriptElement, vizElement);                </script>"
   ]
  },
  {
   "cell_type": "code",
   "execution_count": 25,
   "id": "7d29571c",
   "metadata": {},
   "outputs": [
    {
     "data": {
      "text/html": [
       "<div class='tableauPlaceholder' id='viz1688604183571' style='position: relative'><noscript><a href='#'><img alt='Dashboard 3 ' src='https:&#47;&#47;public.tableau.com&#47;static&#47;images&#47;Ca&#47;Capstone_3_Data_Analysis&#47;Dashboard3&#47;1_rss.png' style='border: none' /></a></noscript><object class='tableauViz'  style='display:none;'><param name='host_url' value='https%3A%2F%2Fpublic.tableau.com%2F' /> <param name='embed_code_version' value='3' /> <param name='site_root' value='' /><param name='name' value='Capstone_3_Data_Analysis&#47;Dashboard3' /><param name='tabs' value='no' /><param name='toolbar' value='yes' /><param name='static_image' value='https:&#47;&#47;public.tableau.com&#47;static&#47;images&#47;Ca&#47;Capstone_3_Data_Analysis&#47;Dashboard3&#47;1.png' /> <param name='animate_transition' value='yes' /><param name='display_static_image' value='yes' /><param name='display_spinner' value='yes' /><param name='display_overlay' value='yes' /><param name='display_count' value='yes' /><param name='language' value='en-US' /><param name='filter' value='publish=yes' /></object></div>                <script type='text/javascript'>                    var divElement = document.getElementById('viz1688604183571');                    var vizElement = divElement.getElementsByTagName('object')[0];                    if ( divElement.offsetWidth > 800 ) { vizElement.style.width='1000px';vizElement.style.height='827px';} else if ( divElement.offsetWidth > 500 ) { vizElement.style.width='1000px';vizElement.style.height='827px';} else { vizElement.style.width='100%';vizElement.style.height='727px';}                     var scriptElement = document.createElement('script');                    scriptElement.src = 'https://public.tableau.com/javascripts/api/viz_v1.js';                    vizElement.parentNode.insertBefore(scriptElement, vizElement);                </script>\n"
      ],
      "text/plain": [
       "<IPython.core.display.HTML object>"
      ]
     },
     "metadata": {},
     "output_type": "display_data"
    }
   ],
   "source": [
    "%%HTML\n",
    "<div class='tableauPlaceholder' id='viz1688604183571' style='position: relative'><noscript><a href='#'><img alt='Dashboard 3 ' src='https:&#47;&#47;public.tableau.com&#47;static&#47;images&#47;Ca&#47;Capstone_3_Data_Analysis&#47;Dashboard3&#47;1_rss.png' style='border: none' /></a></noscript><object class='tableauViz'  style='display:none;'><param name='host_url' value='https%3A%2F%2Fpublic.tableau.com%2F' /> <param name='embed_code_version' value='3' /> <param name='site_root' value='' /><param name='name' value='Capstone_3_Data_Analysis&#47;Dashboard3' /><param name='tabs' value='no' /><param name='toolbar' value='yes' /><param name='static_image' value='https:&#47;&#47;public.tableau.com&#47;static&#47;images&#47;Ca&#47;Capstone_3_Data_Analysis&#47;Dashboard3&#47;1.png' /> <param name='animate_transition' value='yes' /><param name='display_static_image' value='yes' /><param name='display_spinner' value='yes' /><param name='display_overlay' value='yes' /><param name='display_count' value='yes' /><param name='language' value='en-US' /><param name='filter' value='publish=yes' /></object></div>                <script type='text/javascript'>                    var divElement = document.getElementById('viz1688604183571');                    var vizElement = divElement.getElementsByTagName('object')[0];                    if ( divElement.offsetWidth > 800 ) { vizElement.style.width='1000px';vizElement.style.height='827px';} else if ( divElement.offsetWidth > 500 ) { vizElement.style.width='1000px';vizElement.style.height='827px';} else { vizElement.style.width='100%';vizElement.style.height='727px';}                     var scriptElement = document.createElement('script');                    scriptElement.src = 'https://public.tableau.com/javascripts/api/viz_v1.js';                    vizElement.parentNode.insertBefore(scriptElement, vizElement);                </script>"
   ]
  },
  {
   "cell_type": "code",
   "execution_count": 22,
   "id": "1ed61bed",
   "metadata": {},
   "outputs": [
    {
     "data": {
      "text/plain": [
       "Normal     586\n",
       "Bullish    119\n",
       "Bearish     90\n",
       "Name: RSI_Status, dtype: int64"
      ]
     },
     "execution_count": 22,
     "metadata": {},
     "output_type": "execute_result"
    }
   ],
   "source": [
    "df.RSI_Status.value_counts()"
   ]
  },
  {
   "cell_type": "code",
   "execution_count": null,
   "id": "8d8791d3",
   "metadata": {},
   "outputs": [],
   "source": []
  }
 ],
 "metadata": {
  "kernelspec": {
   "display_name": "Python 3 (ipykernel)",
   "language": "python",
   "name": "python3"
  },
  "language_info": {
   "codemirror_mode": {
    "name": "ipython",
    "version": 3
   },
   "file_extension": ".py",
   "mimetype": "text/x-python",
   "name": "python",
   "nbconvert_exporter": "python",
   "pygments_lexer": "ipython3",
   "version": "3.9.13"
  }
 },
 "nbformat": 4,
 "nbformat_minor": 5
}
